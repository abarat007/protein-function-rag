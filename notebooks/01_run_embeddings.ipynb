{
 "cells": [
  {
   "cell_type": "code",
   "execution_count": 2,
   "metadata": {},
   "outputs": [],
   "source": [
    "import os\n",
    "import numpy as np\n",
    "from Bio import SeqIO\n",
    "from transformers import AutoTokenizer, EsmModel\n",
    "from sentence_transformers import SentenceTransformer\n",
    "import torch"
   ]
  },
  {
   "cell_type": "code",
   "execution_count": 3,
   "metadata": {},
   "outputs": [
    {
     "name": "stdout",
     "output_type": "stream",
     "text": [
      "Loaded protein: sp|Q13286|CLN3_HUMAN\n"
     ]
    }
   ],
   "source": [
    "# paths\n",
    "fasta_path = \"/Users/abhinavbarat/Documents/bionemo_protein_rag/data/proteins.fasta\"\n",
    "output_path = \"/Users/abhinavbarat/Documents/bionemo_protein_rag/embeddings/Q13286_embedding.npy\"\n",
    "\n",
    "# read protein sequence\n",
    "record = next(SeqIO.parse(fasta_path, \"fasta\"))\n",
    "protein_seq = str(record.seq)\n",
    "print(f\"Loaded protein: {record.id}\")"
   ]
  },
  {
   "cell_type": "code",
   "execution_count": 5,
   "metadata": {},
   "outputs": [
    {
     "name": "stdout",
     "output_type": "stream",
     "text": [
      "Embedding shape: (768,)\n"
     ]
    }
   ],
   "source": [
    "model_name = \"pritamdeka/BioBERT-mnli-snli-scinli-scitail-mednli-stsb\"\n",
    "model = SentenceTransformer(model_name)\n",
    "\n",
    "# generate embedding from amino acid sequence\n",
    "embedding = model.encode([protein_seq])[0]\n",
    "print(f\"Embedding shape: {embedding.shape}\")"
   ]
  },
  {
   "cell_type": "code",
   "execution_count": 1,
   "metadata": {},
   "outputs": [
    {
     "name": "stdout",
     "output_type": "stream",
     "text": [
      "pytorch not found\n",
      "2.6.0\n"
     ]
    }
   ],
   "source": [
    "!which pytorch\n",
    "import torch\n",
    "print(torch.__version__)"
   ]
  },
  {
   "cell_type": "code",
   "execution_count": 6,
   "metadata": {},
   "outputs": [
    {
     "name": "stdout",
     "output_type": "stream",
     "text": [
      "Saved embedding to /Users/abhinavbarat/Documents/bionemo_protein_rag/embeddings/Q13286_embedding.npy\n"
     ]
    }
   ],
   "source": [
    "# save embedding\n",
    "np.save(output_path, embedding)\n",
    "print(f\"Saved embedding to {output_path}\")"
   ]
  },
  {
   "cell_type": "code",
   "execution_count": null,
   "metadata": {},
   "outputs": [],
   "source": []
  }
 ],
 "metadata": {
  "kernelspec": {
   "display_name": "Python (Torch 2.6)",
   "language": "python",
   "name": "torch260"
  },
  "language_info": {
   "codemirror_mode": {
    "name": "ipython",
    "version": 3
   },
   "file_extension": ".py",
   "mimetype": "text/x-python",
   "name": "python",
   "nbconvert_exporter": "python",
   "pygments_lexer": "ipython3",
   "version": "3.11.5"
  },
  "orig_nbformat": 4
 },
 "nbformat": 4,
 "nbformat_minor": 2
}
