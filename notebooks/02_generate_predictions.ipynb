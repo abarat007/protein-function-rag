{
 "cells": [
  {
   "cell_type": "code",
   "execution_count": 8,
   "metadata": {},
   "outputs": [
    {
     "name": "stderr",
     "output_type": "stream",
     "text": [
      "Device set to use cpu\n"
     ]
    }
   ],
   "source": [
    "from transformers import AutoModelForCausalLM, AutoTokenizer, pipeline\n",
    "import torch\n",
    "import numpy as np\n",
    "import json\n",
    "import os\n",
    "\n",
    "# model: BioGPT\n",
    "model_name = \"microsoft/BioGPT-Large\"\n",
    "tokenizer = AutoTokenizer.from_pretrained(model_name)\n",
    "model = AutoModelForCausalLM.from_pretrained(model_name)\n",
    "generator = pipeline(\"text-generation\", model = model, tokenizer = tokenizer, device = -1)\n"
   ]
  },
  {
   "cell_type": "code",
   "execution_count": 3,
   "metadata": {},
   "outputs": [
    {
     "name": "stdout",
     "output_type": "stream",
     "text": [
      "Loaded: sp|Q13286|CLN3_HUMAN\n"
     ]
    }
   ],
   "source": [
    "from Bio import SeqIO\n",
    "\n",
    "# Load protein sequence\n",
    "record = next(SeqIO.parse(\"//Users/abhinavbarat/Documents/bionemo_protein_rag/data/proteins.fasta\", \"fasta\"))\n",
    "protein_seq = str(record.seq)\n",
    "print(f\"Loaded: {record.id}\")"
   ]
  },
  {
   "cell_type": "code",
   "execution_count": 4,
   "metadata": {},
   "outputs": [],
   "source": [
    "with open(\"/Users/abhinavbarat/Documents/bionemo_protein_rag/data/uniprot_chunks.jsonl\", \"r\") as f:\n",
    "    docs = [json.loads(line) for line in f]\n",
    "\n",
    "retrieved_texts = [\"Functions in cell cycle checkpoint regulation and interacts with BRCA1.\",\n",
    "    \"This protein is involved in the DNA damage response and double-strand break repair pathways.\",\n",
    "    \"Plays a role in mitochondrial fission and may regulate apoptosis.\"]"
   ]
  },
  {
   "cell_type": "code",
   "execution_count": 17,
   "metadata": {},
   "outputs": [],
   "source": [
    "prompt = f\"\"\"You are a biomedical research assistant.\n",
    "\n",
    "Task: Predict the likely biological function of the following protein, using its sequence and related literature.\n",
    "\n",
    "Protein sequence:\n",
    "{protein_seq[:300]}...\n",
    "\n",
    "Top related literature:\n",
    "1. {retrieved_texts[0]}\n",
    "2. {retrieved_texts[1]}\n",
    "3. {retrieved_texts[2]}\n",
    "\n",
    "Predicted function:\"\"\"\n"
   ]
  },
  {
   "cell_type": "code",
   "execution_count": 16,
   "metadata": {},
   "outputs": [
    {
     "name": "stdout",
     "output_type": "stream",
     "text": [
      "\n",
      "🧬 Predicted Function:\n",
      "DNA repair.\n"
     ]
    }
   ],
   "source": [
    "output = generator(prompt, max_new_tokens=80, do_sample=True, temperature=0.7)\n",
    "generated_text = output[0][\"generated_text\"]\n",
    "\n",
    "# Extract text after 'Predicted function:'\n",
    "if \"Predicted function:\" in generated_text:\n",
    "    predicted_function = generated_text.split(\"Predicted function:\")[-1].strip()\n",
    "else:\n",
    "    predicted_function = generated_text.strip()\n",
    "\n",
    "junk_markers = [\"< / FREETEXT >\", \"< / PARAGRAPH >\", \"▃\", \"\\n\"]\n",
    "for marker in junk_markers:\n",
    "    if marker in predicted_function:\n",
    "        predicted_function = predicted_function.split(marker)[0].strip()\n",
    "\n",
    "\n",
    "predicted_function = predicted_function.split(\".\")[0].strip() + \".\"\n",
    "print(\"\\n🧬 Predicted Function:\")\n",
    "print(predicted_function)\n"
   ]
  },
  {
   "cell_type": "code",
   "execution_count": 18,
   "metadata": {},
   "outputs": [
    {
     "name": "stdout",
     "output_type": "stream",
     "text": [
      "Saved cleaned predicted function to /Users/abhinavbarat/Documents/bionemo_protein_rag/outputs/Q13286_prediction.txt\n"
     ]
    }
   ],
   "source": [
    "import os\n",
    "\n",
    "output_dir = \"/Users/abhinavbarat/Documents/bionemo_protein_rag/outputs\"\n",
    "os.makedirs(output_dir, exist_ok=True)\n",
    "\n",
    "output_file = os.path.join(output_dir, \"Q13286_prediction.txt\")\n",
    "with open(output_file, \"w\") as f:\n",
    "    f.write(predicted_function)\n",
    "\n",
    "print(f\"Saved cleaned predicted function to {output_file}\")"
   ]
  }
 ],
 "metadata": {
  "kernelspec": {
   "display_name": "Python (Torch 2.6)",
   "language": "python",
   "name": "torch260"
  },
  "language_info": {
   "codemirror_mode": {
    "name": "ipython",
    "version": 3
   },
   "file_extension": ".py",
   "mimetype": "text/x-python",
   "name": "python",
   "nbconvert_exporter": "python",
   "pygments_lexer": "ipython3",
   "version": "3.11.5"
  },
  "orig_nbformat": 4
 },
 "nbformat": 4,
 "nbformat_minor": 2
}
